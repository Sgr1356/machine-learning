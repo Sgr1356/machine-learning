{
 "cells": [
  {
   "cell_type": "code",
   "execution_count": 2,
   "metadata": {},
   "outputs": [],
   "source": [
    "def wish():\n",
    "    print(\"This is a Function\")"
   ]
  },
  {
   "cell_type": "code",
   "execution_count": 3,
   "metadata": {},
   "outputs": [
    {
     "name": "stdout",
     "output_type": "stream",
     "text": [
      "This is a Function\n"
     ]
    }
   ],
   "source": [
    "wish()"
   ]
  },
  {
   "cell_type": "code",
   "execution_count": 4,
   "metadata": {},
   "outputs": [],
   "source": [
    "def wish2():\n",
    "    return \"hello return\""
   ]
  },
  {
   "cell_type": "code",
   "execution_count": 7,
   "metadata": {},
   "outputs": [],
   "source": [
    "z=wish2()"
   ]
  },
  {
   "cell_type": "code",
   "execution_count": 8,
   "metadata": {},
   "outputs": [
    {
     "data": {
      "text/plain": [
       "'hello return'"
      ]
     },
     "execution_count": 8,
     "metadata": {},
     "output_type": "execute_result"
    }
   ],
   "source": [
    "z\n"
   ]
  },
  {
   "cell_type": "code",
   "execution_count": 19,
   "metadata": {},
   "outputs": [],
   "source": [
    "def add(a,b,c):\n",
    "    ad=a+b+c\n",
    "    return add\n",
    "\n",
    "    "
   ]
  },
  {
   "cell_type": "code",
   "execution_count": 20,
   "metadata": {},
   "outputs": [],
   "source": [
    "z=add(4,4,8)"
   ]
  },
  {
   "cell_type": "code",
   "execution_count": 21,
   "metadata": {},
   "outputs": [
    {
     "data": {
      "text/plain": [
       "16"
      ]
     },
     "execution_count": 21,
     "metadata": {},
     "output_type": "execute_result"
    }
   ],
   "source": [
    "z\n"
   ]
  },
  {
   "cell_type": "code",
   "execution_count": 25,
   "metadata": {},
   "outputs": [],
   "source": [
    "def add1(a,b,c=100):\n",
    "    ad=a+b+c\n",
    "    return ad\n",
    "\n",
    "    "
   ]
  },
  {
   "cell_type": "code",
   "execution_count": 26,
   "metadata": {},
   "outputs": [],
   "source": [
    "z=add1(2,6,8)"
   ]
  },
  {
   "cell_type": "code",
   "execution_count": 27,
   "metadata": {},
   "outputs": [
    {
     "data": {
      "text/plain": [
       "16"
      ]
     },
     "execution_count": 27,
     "metadata": {},
     "output_type": "execute_result"
    }
   ],
   "source": [
    "z"
   ]
  },
  {
   "cell_type": "code",
   "execution_count": 28,
   "metadata": {},
   "outputs": [
    {
     "name": "stdout",
     "output_type": "stream",
     "text": [
      "{'__name__': '__main__', '__doc__': 'Automatically created module for IPython interactive environment', '__package__': None, '__loader__': None, '__spec__': None, '__builtin__': <module 'builtins' (built-in)>, '__builtins__': <module 'builtins' (built-in)>, '_ih': ['', 'def wish():\\n    print(:This is a Function)', 'def wish():\\n    print(\"This is a Function\")', 'wish()', 'def wish2():\\n    return \"hello return\"', 'wish()', 'wish2()', 'z=wish2()', 'z', 'def add(a,b,c):\\n    add=a+b+c\\n    return add\\n\\n    ', 'z=add()', 'z=add(4,4,8)', 'z', 'def add(a,b,c):\\n    add=a+b+c\\n\\n\\n    ', 'z=add(4,4,8)', 'z', 'def add(a,b,c):\\n    add=a+b+c\\n    return add\\n\\n    ', 'z=add(4,4,8)', 'z', 'def add(a,b,c):\\n    ad=a+b+c\\n    return ad\\n\\n    ', 'z=add(4,4,8)', 'z', 'def add1(a,b,c=100):\\n    ad=a+b+c\\n    return add\\n\\n    ', 'z=add1(2,6,8)', 'z', 'def add1(a,b,c=100):\\n    ad=a+b+c\\n    return ad\\n\\n    ', 'z=add1(2,6,8)', 'z', 'print(globals())'], '_oh': {6: 'hello return', 8: 'hello return', 12: 16, 18: 16, 21: 16, 24: <function add at 0x00E16270>, 27: 16}, '_dh': ['D:\\\\pythonpro\\\\Machine Learning'], 'In': ['', 'def wish():\\n    print(:This is a Function)', 'def wish():\\n    print(\"This is a Function\")', 'wish()', 'def wish2():\\n    return \"hello return\"', 'wish()', 'wish2()', 'z=wish2()', 'z', 'def add(a,b,c):\\n    add=a+b+c\\n    return add\\n\\n    ', 'z=add()', 'z=add(4,4,8)', 'z', 'def add(a,b,c):\\n    add=a+b+c\\n\\n\\n    ', 'z=add(4,4,8)', 'z', 'def add(a,b,c):\\n    add=a+b+c\\n    return add\\n\\n    ', 'z=add(4,4,8)', 'z', 'def add(a,b,c):\\n    ad=a+b+c\\n    return ad\\n\\n    ', 'z=add(4,4,8)', 'z', 'def add1(a,b,c=100):\\n    ad=a+b+c\\n    return add\\n\\n    ', 'z=add1(2,6,8)', 'z', 'def add1(a,b,c=100):\\n    ad=a+b+c\\n    return ad\\n\\n    ', 'z=add1(2,6,8)', 'z', 'print(globals())'], 'Out': {6: 'hello return', 8: 'hello return', 12: 16, 18: 16, 21: 16, 24: <function add at 0x00E16270>, 27: 16}, 'get_ipython': <bound method InteractiveShell.get_ipython of <ipykernel.zmqshell.ZMQInteractiveShell object at 0x04C8B4F0>>, 'exit': <IPython.core.autocall.ZMQExitAutocall object at 0x05C39B90>, 'quit': <IPython.core.autocall.ZMQExitAutocall object at 0x05C39B90>, '_': 16, '__': <function add at 0x00E16270>, '___': 16, '_i': 'z', '_ii': 'z=add1(2,6,8)', '_iii': 'def add1(a,b,c=100):\\n    ad=a+b+c\\n    return ad\\n\\n    ', '_i1': 'def wish():\\n    print(:This is a Function)', '_i2': 'def wish():\\n    print(\"This is a Function\")', 'wish': <function wish at 0x05EB3588>, '_i3': 'wish()', '_i4': 'def wish2():\\n    return \"hello return\"', 'wish2': <function wish2 at 0x05EB35D0>, '_i5': 'wish()', '_i6': 'wish2()', '_6': 'hello return', '_i7': 'z=wish2()', 'z': 16, '_i8': 'z', '_8': 'hello return', '_i9': 'def add(a,b,c):\\n    add=a+b+c\\n    return add\\n\\n    ', 'add': <function add at 0x00E16270>, '_i10': 'z=add()', '_i11': 'z=add(4,4,8)', '_i12': 'z', '_12': 16, '_i13': 'def add(a,b,c):\\n    add=a+b+c\\n\\n\\n    ', '_i14': 'z=add(4,4,8)', '_i15': 'z', '_i16': 'def add(a,b,c):\\n    add=a+b+c\\n    return add\\n\\n    ', '_i17': 'z=add(4,4,8)', '_i18': 'z', '_18': 16, '_i19': 'def add(a,b,c):\\n    ad=a+b+c\\n    return ad\\n\\n    ', '_i20': 'z=add(4,4,8)', '_i21': 'z', '_21': 16, '_i22': 'def add1(a,b,c=100):\\n    ad=a+b+c\\n    return add\\n\\n    ', 'add1': <function add1 at 0x00E16540>, '_i23': 'z=add1(2,6,8)', '_i24': 'z', '_24': <function add at 0x00E16270>, '_i25': 'def add1(a,b,c=100):\\n    ad=a+b+c\\n    return ad\\n\\n    ', '_i26': 'z=add1(2,6,8)', '_i27': 'z', '_27': 16, '_i28': 'print(globals())'}\n"
     ]
    }
   ],
   "source": [
    "print(globals())"
   ]
  },
  {
   "cell_type": "code",
   "execution_count": null,
   "metadata": {},
   "outputs": [],
   "source": []
  }
 ],
 "metadata": {
  "kernelspec": {
   "display_name": "Python 3",
   "language": "python",
   "name": "python3"
  },
  "language_info": {
   "codemirror_mode": {
    "name": "ipython",
    "version": 3
   },
   "file_extension": ".py",
   "mimetype": "text/x-python",
   "name": "python",
   "nbconvert_exporter": "python",
   "pygments_lexer": "ipython3",
   "version": "3.7.3"
  }
 },
 "nbformat": 4,
 "nbformat_minor": 4
}
