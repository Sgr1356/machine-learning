{
 "cells": [
  {
   "cell_type": "code",
   "execution_count": 1,
   "metadata": {},
   "outputs": [],
   "source": [
    "from mpl_toolkits.mplot3d import Axes3D\n",
    "from sklearn.preprocessing import StandardScaler\n",
    "import matplotlib.pyplot as plt # plotting\n",
    "import numpy as np # linear algebra\n",
    "import os # accessing directory structure\n",
    "import pandas as pd # data processing, CSV file I/O (e.g. pd.read_csv)"
   ]
  },
  {
   "cell_type": "code",
   "execution_count": 2,
   "metadata": {},
   "outputs": [],
   "source": [
    "dataset=pd.read_csv('dataset csv for supervised/singapore-residents-by-age-group-ethnic-group-and-sex-end-june-annual.csv')"
   ]
  },
  {
   "cell_type": "code",
   "execution_count": 3,
   "metadata": {},
   "outputs": [
    {
     "data": {
      "text/html": [
       "<div>\n",
       "<style scoped>\n",
       "    .dataframe tbody tr th:only-of-type {\n",
       "        vertical-align: middle;\n",
       "    }\n",
       "\n",
       "    .dataframe tbody tr th {\n",
       "        vertical-align: top;\n",
       "    }\n",
       "\n",
       "    .dataframe thead th {\n",
       "        text-align: right;\n",
       "    }\n",
       "</style>\n",
       "<table border=\"1\" class=\"dataframe\">\n",
       "  <thead>\n",
       "    <tr style=\"text-align: right;\">\n",
       "      <th></th>\n",
       "      <th>year</th>\n",
       "      <th>level_1</th>\n",
       "      <th>level_2</th>\n",
       "      <th>value</th>\n",
       "    </tr>\n",
       "  </thead>\n",
       "  <tbody>\n",
       "    <tr>\n",
       "      <th>0</th>\n",
       "      <td>1957</td>\n",
       "      <td>Total Residents</td>\n",
       "      <td>0  -  4 Years</td>\n",
       "      <td>264727</td>\n",
       "    </tr>\n",
       "    <tr>\n",
       "      <th>1</th>\n",
       "      <td>1957</td>\n",
       "      <td>Total Residents</td>\n",
       "      <td>5  -  9 Years</td>\n",
       "      <td>218097</td>\n",
       "    </tr>\n",
       "    <tr>\n",
       "      <th>2</th>\n",
       "      <td>1957</td>\n",
       "      <td>Total Residents</td>\n",
       "      <td>10 - 14 Years</td>\n",
       "      <td>136280</td>\n",
       "    </tr>\n",
       "    <tr>\n",
       "      <th>3</th>\n",
       "      <td>1957</td>\n",
       "      <td>Total Residents</td>\n",
       "      <td>15 - 19 Years</td>\n",
       "      <td>135679</td>\n",
       "    </tr>\n",
       "    <tr>\n",
       "      <th>4</th>\n",
       "      <td>1957</td>\n",
       "      <td>Total Residents</td>\n",
       "      <td>20 - 24 Years</td>\n",
       "      <td>119266</td>\n",
       "    </tr>\n",
       "    <tr>\n",
       "      <th>...</th>\n",
       "      <td>...</td>\n",
       "      <td>...</td>\n",
       "      <td>...</td>\n",
       "      <td>...</td>\n",
       "    </tr>\n",
       "    <tr>\n",
       "      <th>20455</th>\n",
       "      <td>2018</td>\n",
       "      <td>Other Ethnic Groups (Females)</td>\n",
       "      <td>65 Years &amp; Over</td>\n",
       "      <td>3386</td>\n",
       "    </tr>\n",
       "    <tr>\n",
       "      <th>20456</th>\n",
       "      <td>2018</td>\n",
       "      <td>Other Ethnic Groups (Females)</td>\n",
       "      <td>70 Years &amp; Over</td>\n",
       "      <td>2087</td>\n",
       "    </tr>\n",
       "    <tr>\n",
       "      <th>20457</th>\n",
       "      <td>2018</td>\n",
       "      <td>Other Ethnic Groups (Females)</td>\n",
       "      <td>75 Years &amp; Over</td>\n",
       "      <td>1362</td>\n",
       "    </tr>\n",
       "    <tr>\n",
       "      <th>20458</th>\n",
       "      <td>2018</td>\n",
       "      <td>Other Ethnic Groups (Females)</td>\n",
       "      <td>80 Years &amp; Over</td>\n",
       "      <td>842</td>\n",
       "    </tr>\n",
       "    <tr>\n",
       "      <th>20459</th>\n",
       "      <td>2018</td>\n",
       "      <td>Other Ethnic Groups (Females)</td>\n",
       "      <td>85 Years &amp; Over</td>\n",
       "      <td>437</td>\n",
       "    </tr>\n",
       "  </tbody>\n",
       "</table>\n",
       "<p>20460 rows × 4 columns</p>\n",
       "</div>"
      ],
      "text/plain": [
       "       year                        level_1          level_2   value\n",
       "0      1957                Total Residents    0  -  4 Years  264727\n",
       "1      1957                Total Residents    5  -  9 Years  218097\n",
       "2      1957                Total Residents    10 - 14 Years  136280\n",
       "3      1957                Total Residents    15 - 19 Years  135679\n",
       "4      1957                Total Residents    20 - 24 Years  119266\n",
       "...     ...                            ...              ...     ...\n",
       "20455  2018  Other Ethnic Groups (Females)  65 Years & Over    3386\n",
       "20456  2018  Other Ethnic Groups (Females)  70 Years & Over    2087\n",
       "20457  2018  Other Ethnic Groups (Females)  75 Years & Over    1362\n",
       "20458  2018  Other Ethnic Groups (Females)  80 Years & Over     842\n",
       "20459  2018  Other Ethnic Groups (Females)  85 Years & Over     437\n",
       "\n",
       "[20460 rows x 4 columns]"
      ]
     },
     "execution_count": 3,
     "metadata": {},
     "output_type": "execute_result"
    }
   ],
   "source": [
    "dataset"
   ]
  },
  {
   "cell_type": "code",
   "execution_count": 4,
   "metadata": {},
   "outputs": [
    {
     "name": "stdout",
     "output_type": "stream",
     "text": [
      "There are 1000 rows and 4 columns\n"
     ]
    }
   ],
   "source": [
    "nRowsRead = 1000\n",
    "# singapore-residents-by-age-group-ethnic-group-and-sex-end-june-annual.csv has 20460 rows in reality, but we are only loading/previewing the first 1000 rows\n",
    "df1 = pd.read_csv('dataset csv for supervised/singapore-residents-by-age-group-ethnic-group-and-sex-end-june-annual.csv', delimiter=',', nrows = nRowsRead)\n",
    "df1.dataframeName = 'singapore-residents-by-age-group-ethnic-group-and-sex-end-june-annual.csv'\n",
    "nRow, nCol = df1.shape\n",
    "print(f'There are {nRow} rows and {nCol} columns')"
   ]
  },
  {
   "cell_type": "code",
   "execution_count": 5,
   "metadata": {},
   "outputs": [
    {
     "data": {
      "text/html": [
       "<div>\n",
       "<style scoped>\n",
       "    .dataframe tbody tr th:only-of-type {\n",
       "        vertical-align: middle;\n",
       "    }\n",
       "\n",
       "    .dataframe tbody tr th {\n",
       "        vertical-align: top;\n",
       "    }\n",
       "\n",
       "    .dataframe thead th {\n",
       "        text-align: right;\n",
       "    }\n",
       "</style>\n",
       "<table border=\"1\" class=\"dataframe\">\n",
       "  <thead>\n",
       "    <tr style=\"text-align: right;\">\n",
       "      <th></th>\n",
       "      <th>year</th>\n",
       "      <th>level_1</th>\n",
       "      <th>level_2</th>\n",
       "      <th>value</th>\n",
       "    </tr>\n",
       "  </thead>\n",
       "  <tbody>\n",
       "    <tr>\n",
       "      <th>0</th>\n",
       "      <td>1957</td>\n",
       "      <td>Total Residents</td>\n",
       "      <td>0  -  4 Years</td>\n",
       "      <td>264727</td>\n",
       "    </tr>\n",
       "    <tr>\n",
       "      <th>1</th>\n",
       "      <td>1957</td>\n",
       "      <td>Total Residents</td>\n",
       "      <td>5  -  9 Years</td>\n",
       "      <td>218097</td>\n",
       "    </tr>\n",
       "    <tr>\n",
       "      <th>2</th>\n",
       "      <td>1957</td>\n",
       "      <td>Total Residents</td>\n",
       "      <td>10 - 14 Years</td>\n",
       "      <td>136280</td>\n",
       "    </tr>\n",
       "    <tr>\n",
       "      <th>3</th>\n",
       "      <td>1957</td>\n",
       "      <td>Total Residents</td>\n",
       "      <td>15 - 19 Years</td>\n",
       "      <td>135679</td>\n",
       "    </tr>\n",
       "    <tr>\n",
       "      <th>4</th>\n",
       "      <td>1957</td>\n",
       "      <td>Total Residents</td>\n",
       "      <td>20 - 24 Years</td>\n",
       "      <td>119266</td>\n",
       "    </tr>\n",
       "  </tbody>\n",
       "</table>\n",
       "</div>"
      ],
      "text/plain": [
       "   year          level_1        level_2   value\n",
       "0  1957  Total Residents  0  -  4 Years  264727\n",
       "1  1957  Total Residents  5  -  9 Years  218097\n",
       "2  1957  Total Residents  10 - 14 Years  136280\n",
       "3  1957  Total Residents  15 - 19 Years  135679\n",
       "4  1957  Total Residents  20 - 24 Years  119266"
      ]
     },
     "execution_count": 5,
     "metadata": {},
     "output_type": "execute_result"
    }
   ],
   "source": [
    "df1.head(5)"
   ]
  },
  {
   "cell_type": "code",
   "execution_count": 7,
   "metadata": {},
   "outputs": [
    {
     "ename": "AttributeError",
     "evalue": "module 'matplotlib.pyplot' has no attribute 'plotPerColumnDistribution'",
     "output_type": "error",
     "traceback": [
      "\u001b[1;31m---------------------------------------------------------------------------\u001b[0m",
      "\u001b[1;31mAttributeError\u001b[0m                            Traceback (most recent call last)",
      "\u001b[1;32m<ipython-input-7-cff9e27d13df>\u001b[0m in \u001b[0;36m<module>\u001b[1;34m\u001b[0m\n\u001b[1;32m----> 1\u001b[1;33m \u001b[0mplt\u001b[0m\u001b[1;33m.\u001b[0m\u001b[0mplotPerColumnDistribution\u001b[0m\u001b[1;33m(\u001b[0m\u001b[0mdf1\u001b[0m\u001b[1;33m,\u001b[0m \u001b[1;36m10\u001b[0m\u001b[1;33m,\u001b[0m \u001b[1;36m5\u001b[0m\u001b[1;33m)\u001b[0m\u001b[1;33m\u001b[0m\u001b[1;33m\u001b[0m\u001b[0m\n\u001b[0m",
      "\u001b[1;31mAttributeError\u001b[0m: module 'matplotlib.pyplot' has no attribute 'plotPerColumnDistribution'"
     ]
    }
   ],
   "source": [
    "ply.plot(df1)"
   ]
  },
  {
   "cell_type": "code",
   "execution_count": null,
   "metadata": {},
   "outputs": [],
   "source": []
  }
 ],
 "metadata": {
  "kernelspec": {
   "display_name": "Python 3",
   "language": "python",
   "name": "python3"
  },
  "language_info": {
   "codemirror_mode": {
    "name": "ipython",
    "version": 3
   },
   "file_extension": ".py",
   "mimetype": "text/x-python",
   "name": "python",
   "nbconvert_exporter": "python",
   "pygments_lexer": "ipython3",
   "version": "3.7.3"
  }
 },
 "nbformat": 4,
 "nbformat_minor": 4
}
